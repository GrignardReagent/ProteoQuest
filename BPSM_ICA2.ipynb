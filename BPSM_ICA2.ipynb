{
 "cells": [
  {
   "cell_type": "markdown",
   "source": [],
   "metadata": {
    "collapsed": false
   },
   "id": "1f92581c0fe0f874"
  },
  {
   "cell_type": "markdown",
   "source": [
    "# STEP 1: User specifies the protein family and the taxonomic group. Using the relevant EMBOSS functionalities to 1) obtain the relevant protein sequence data\n",
    "\n"
   ],
   "metadata": {
    "collapsed": false
   },
   "id": "7e02b22711ff6e64"
  },
  {
   "cell_type": "code",
   "execution_count": 1,
   "outputs": [],
   "source": [
    "#!/usr/bin/python3\n",
    "import os\n",
    "import subprocess\n",
    "import sys\n",
    "import re\n",
    "import numpy as np\n",
    "import pandas as pd"
   ],
   "metadata": {
    "collapsed": false,
    "ExecuteTime": {
     "end_time": "2023-11-18T13:57:49.603364300Z",
     "start_time": "2023-11-18T13:57:48.988320300Z"
    }
   },
   "id": "initial_id"
  },
  {
   "cell_type": "code",
   "execution_count": 6,
   "outputs": [
    {
     "name": "stdout",
     "output_type": "stream",
     "text": [
      "Welcome to the E-Search programme!\n",
      "This programme is used for searching protein sequences within the protein database\n",
      "It will start by asking the user to specify their search terms, and this can be either of the following:\n",
      "1) The taxonomic group name, \n",
      "2) A refined search term or \n",
      "3) The UID of the protein of interest\n"
     ]
    }
   ],
   "source": [
    "# the following script takes an input from the user, asking them which database they'd like to search from\n",
    "# and then asks them which search item they'd like to search for and what search type this search item is.\n",
    "# then it asks whether they'd like to search for a partial match or not.\n",
    "\n",
    "# TODO: Intro to the programme\n",
    "# Welcome the user to the programme, introduce what the programme does and what input it will take from the user\n",
    "print(\"Welcome to the E-Search programme!\"\n",
    "      \"\\nThis programme is used for searching protein sequences within the protein database\"\n",
    "      \"\\nIt will start by asking the user to specify their search terms, and this can be either of the following:\"\n",
    "      \"\\n1) The taxonomic group name, \"\n",
    "      \"\\n2) A refined search term or \"\n",
    "      \"\\n3) The UID of the protein of interest\")\n",
    "\n"
   ],
   "metadata": {
    "collapsed": false,
    "ExecuteTime": {
     "end_time": "2023-11-12T12:46:34.522311400Z",
     "start_time": "2023-11-12T12:46:34.478936100Z"
    }
   },
   "id": "ed21408e72fcfb8b"
  },
  {
   "cell_type": "markdown",
   "source": [
    "# Get user_input and do quality check for the search term\n",
    "## Note that esearch doesn't work within jupyter notebook"
   ],
   "metadata": {
    "collapsed": false
   },
   "id": "92453349c63d8852"
  },
  {
   "cell_type": "code",
   "execution_count": 31,
   "outputs": [],
   "source": [
    "### PROCESS STEP 0: INPUT AND INPUT PRE-PROCESSING ###\n",
    "## This step takes the user's input and store it as a variable so that it can be fed into the esearch commandline\n",
    "\n",
    "# define a function to get confirmation from the user as to whether they'd like to proceed (This function is universal to be used in different situations)\n",
    "def get_confirmation():\n",
    "    '''This function gets confirmation from the user as to whether they'd like to proceed. It returns True if the user would indeed like to proceed'''\n",
    "    while True:\n",
    "        # take an input from the user and turn it lowercase\n",
    "        confirmation = input(\"Would you like to proceed? (y/n)\").lower()\n",
    "        if confirmation == 'y':\n",
    "            return True\n",
    "        elif confirmation == 'n':\n",
    "            return False\n",
    "        else:\n",
    "            print(\"Invalid input. Please enter 'y' or 'n'\")\n",
    "\n",
    "# define a function to check the quality of the user's input\n",
    "def quality_check_user_input(user_input):\n",
    "    '''This function checks the quality of the user's input. It checks whether the user has specified a valid taxonomic group or not.\n",
    "    If the user has specified a valid taxonomic group, then the function returns True, otherwise it returns False.'''\n",
    "    # screen for invalid inputs\n",
    "    # if the user_input is empty, then the user has not specified a taxonomic group and they need to specify the input again\n",
    "    if re.search(\"^$\",user_input):  # using re, search for anything that contains nothing betweent the start and end of the string\n",
    "        return False\n",
    "    # screen for invalid search term\n",
    "    try:\n",
    "        # run esearch in the taxonomy database and save it to esearch_user_input\n",
    "        esearch_user_input = subprocess.getoutput(\"esearch -db taxonomy -spell -query\"+'\"' + user_input +'\"'+ \"| efetch\")\n",
    "    except subprocess.CalledProcessError as e:\n",
    "        print(f\"Error executing subprocess: {e}, please run the programme again and provide an appropriate taxonomic group name.\")\n",
    "        # handle the error or exit the programme\n",
    "        sys.exit(1)\n",
    "    \n",
    "    # if esearch returns an empty line on NCBI, return False\n",
    "    if re.search(\"^$\", esearch_user_input):\n",
    "        return False\n",
    "    \n",
    "    # if esearch returns a warning or error on NCBI, return False, else True\n",
    "    if \"FAILURE\" in esearch_user_input or \"WARNING\" in esearch_user_input or \"ERROR\" in esearch_user_input:\n",
    "        print(\"Invalid input. Please enter 'y' or 'n'\") \n",
    "        return False\n",
    "    else:\n",
    "        return True"
   ],
   "metadata": {
    "collapsed": false,
    "ExecuteTime": {
     "end_time": "2023-11-12T13:09:49.310160800Z",
     "start_time": "2023-11-12T13:09:49.297647400Z"
    }
   },
   "id": "65cd5760261dc6c9"
  },
  {
   "cell_type": "code",
   "execution_count": 6,
   "outputs": [],
   "source": [
    "#TODO: define a function to refine search result \n",
    "def refine_search_term():\n",
    "    '''This function collects a further user input to refine our search result. Input quality check is also performed.'''\n",
    "    refined_input = input(\"How would you like to refine your search term? Enter its name to proceed. \")\n",
    "    refined_input_type = input(\"What is the search term type?\")\n",
    "    # while loop to make sure user_input passes the quality check, this will run until it passes!\n",
    "    while True:\n",
    "        if quality_check_user_input(user_input):\n",
    "            print(\"The following search term will be used in NCBI: \", user_input, '\\n',\n",
    "                  '*Note: This may not be the exact name of the taxonomic group as NCBI allows room for typo in the search term.*')\n",
    "            return user_input\n",
    "        else:\n",
    "            print(\"The taxonomic group you have specified is not valid. Please try again.\")\n",
    "            # ask user to specify the taxonomic group they'd like to search for AGAIN\n",
    "            user_input = input(\"Which taxonomic group would you like to search for? Enter its name to proceed. \")\n",
    "            continue\n",
    "\n",
    "# define a function to perform a search within the NCBI protein database\n",
    "def protein_esearch(search_term):\n",
    "    '''This function performs an esearch within the NCBI protein database given a valid input and outputs the fasta sequence of the protein specified.'''\n",
    "    user_result = subprocess.getoutput(\"esearch -db protein -spell -query \" + search_term + \"| efetch -format fasta\")\n",
    "    # This will print all the fasta sequences found to the screen\n",
    "    print(user_result)\n",
    "    #TODO: if the user wants to save the fasta sequence as a file\n",
    "    \n",
    "# define a function to get the scientific names of the taxonomic groups\n",
    "def get_scientific_names():\n",
    "    '''The function collects the scientific names from user_input. Quality check is also performed'''\n",
    "    # search for this taxonomic group on esearch and save the output in user_result\n",
    "    user_result = subprocess.getoutput(\"esearch -db taxonomy -spell -query \" + user_input + \"| efetch\")\n",
    "    # search for this taxonomic group on esearch and save the names of the possible taxonimic groups to a list\n",
    "    print(\"\")\n",
    "    scientific_names = subprocess.getoutput(\"esearch -db taxonomy -spell -query \" + user_input + \"| efetch -format docsum | xtract -pattern DocumentSummary -element ScientificName\")  # -spell performs spell check, 'efetch -format docsum' gets the DocSum of the query, and 'xtract -pattern DocumentSummary -element ScientificName' extracts the scientific name \n",
    "    # saving every item within scientific_names into a list\n",
    "    scientific_name_list = scientific_names.split(\"\\n\")  # splitting the list into a list of scientific names\n",
    "    \n",
    "    \n",
    "    #TODO: Maybe put if statements here?\n",
    "    #TODO: Return the more refined input.\n",
    "    print(\"The search term \", user_input, \" returns the following results from NCBI:\",\n",
    "          user_result,\".\\nIts scientific name is: \", scientific_name_list)\n",
    "    return scientific_name_list, scientific_names, user_result"
   ],
   "metadata": {
    "collapsed": false,
    "ExecuteTime": {
     "end_time": "2023-11-12T10:32:55.285891200Z",
     "start_time": "2023-11-12T10:32:55.269714700Z"
    }
   },
   "id": "b1d312dd25a7e8da"
  },
  {
   "cell_type": "code",
   "execution_count": null,
   "outputs": [],
   "source": [
    "# define a function to get the user's input\n",
    "def user_input_UID_False():\n",
    "    '''This function gets user_input if the user is not inputting an UID as a search item'''\n",
    "    user_input = input(\"Which taxonomic group would you like to search for? Enter its name to proceed.\")\n",
    "    # check the quality of the user's input\n",
    "    while True:\n",
    "        if quality_check_user_input(user_input) == True:\n",
    "            print(\"The taxonomic group you have specified is valid.\")\n",
    "            print(f\"The taxonomic group you have specified is: {user_input}\")\n",
    "            print(\"The programme will now proceed to search for the specified taxonomic group.\")\n",
    "            print(\"Please wait...\")\n",
    "            return user_input\n",
    "        # if the has not specified a valid taxonomic group then they need to specify the input again\n",
    "        else:\n",
    "            print(\"The taxonomic group you have specified is not valid. Please try again.\")\n",
    "            # ask user to specify the taxonomic group they'd like to search for AGAIN\n",
    "            user_input = input(\"Which taxonomic group would you like to search for? Enter its name to proceed: \")\n",
    "            continue\n",
    " \n",
    "\n",
    "\n",
    "def get_input():\n",
    "    '''This function collects the user input.'''\n",
    "    # ask the user if they'd like to search for a UID or start from a taxonomy group\n",
    "    while True:\n",
    "        # ask the user if the search term is a UID or a defined search term\n",
    "        user_search_type = input(\"Is your search term a UID? (y/n)\").lower()\n",
    "        # if the search term entered by the user is a TAXONOMIC GROUP i.e. not UID\n",
    "        if user_search_type == 'n':\n",
    "            # pass through the function to check the quality of the user's input\n",
    "            user_input = user_input_UID_False()\n",
    "            return True\n",
    "\n",
    "        # if the search term entered by the user is a refined search term or a UID\n",
    "        elif user_search_type == 'y':\n",
    "            # pass through the function to check the quality of the user's input\n",
    "            user_input = input(\"Please enter a UID: \")\n",
    "            protein_esearch(user_input)\n",
    "\n",
    "            # TODO\n",
    "\n",
    "            return False\n",
    "        # if the search type is not properly defined\n",
    "        else:\n",
    "            print(\"Invalid input. Please enter 'y' or 'n'\")\n",
    "\n",
    "# save user_input as a global variable, but also allow the user to interrupt the programme\n",
    "try:\n",
    "    user_input = get_input()\n",
    "except KeyboardInterrupt:\n",
    "    print(\"\\nProgramme interrupted by the user.\")\n",
    "    sys.exit(0)"
   ],
   "metadata": {
    "collapsed": false,
    "is_executing": true
   },
   "id": "690ae86bb9a4a738"
  },
  {
   "cell_type": "code",
   "execution_count": 1,
   "outputs": [
    {
     "ename": "IndentationError",
     "evalue": "expected an indented block (2807924904.py, line 39)",
     "output_type": "error",
     "traceback": [
      "\u001B[1;36m  Cell \u001B[1;32mIn[1], line 39\u001B[1;36m\u001B[0m\n\u001B[1;33m    print(input(\"Which o\",scientific_name_list))\u001B[0m\n\u001B[1;37m    ^\u001B[0m\n\u001B[1;31mIndentationError\u001B[0m\u001B[1;31m:\u001B[0m expected an indented block\n"
     ]
    }
   ],
   "source": [
    "# execute get_scientific_names to save the outputs as global variables\n",
    "scientific_name_list, scientific_names, user_result = get_scientific_names()\n",
    "\n",
    "#TODO: quality check scientific_name_list (low priority)\n",
    "# if the scientific_name_list is empty, then the user has not specified a valid taxonomic group and they need to specify the input again\n",
    "# (this should not happen, but a sanity check is always good!)\n",
    "if len(scientific_name_list) == 0:\n",
    "    # use the get_input function\n",
    "    user_input = get_input()\n",
    "    # use the get_scientific_names function\n",
    "    scientific_name_list, scientific_names, user_result = get_scientific_names()\n",
    "    print(\"here\")\n",
    "    # once the condition for scientific_name_list != 0 is satisfied, continue to the next if statement\n",
    "    exit()\n",
    "    \n",
    "# if there is only one scientific_name in scientific_name_list, then the user has specified 1 valid taxonomic group\n",
    "if len(scientific_name_list) == 1:\n",
    "    print(\"You have specified the taxonomic group: \", scientific_names,\n",
    "          \"\\nLet's refine your results further...\")\n",
    "    user_confirmation = get_confirmation()\n",
    "    print(user_confirmation) # debug line\n",
    "    # if the user would like to proceed, then we can further refine the search\n",
    "    if user_confirmation == True:\n",
    "        ######### \n",
    "\n",
    "    # if the user would like to change their taxonomic group name, then they have to specify the taxonomic group again\n",
    "    if user_confirmation == False:\n",
    "        scientific_name = input(\"Which taxonomic group would you like to search for? \")\n",
    "        scientific_names = subprocess.getoutput(\"esearch -db taxonomy -spell -query \"+user_input+ \"| efetch -format docsum | xtract -pattern DocumentSummary -element ScientificName\")  # -spell performs spell check\n",
    "        # splitting scientific_names into a list of scientific name\n",
    "        scientific_name_list = scientific_names.split(\"\\n\")  # splitting the list into a list of scientific names\n",
    "        #TODO: This will then take them to the beginning of this if statement\n",
    "\n",
    "\n",
    "if len(scientific_name_list) > 1:\n",
    "    \n",
    "\n",
    "\n",
    "# output to the screen asking the user which taxonomic group they'd like to search for\n",
    "input(\"Which of the following taxonomic group would you like to search for?\",\"\\n\",scientific_name_list)"
   ],
   "metadata": {
    "collapsed": false,
    "ExecuteTime": {
     "end_time": "2023-11-12T10:31:57.244467400Z",
     "start_time": "2023-11-12T10:31:57.234264400Z"
    }
   },
   "id": "ef59876d5bf37264"
  },
  {
   "cell_type": "code",
   "execution_count": null,
   "outputs": [],
   "source": [
    "#TODO: THIS SHOULD BE RAN IN BIOINF SERVER\n",
    "# specify the database to search from, the user cannot specify the database they'd like to search from, or this will become too complicated...\n",
    "database = \"protein\"\n",
    "print(\"The search database is set to \", database)\n",
    "\n",
    "# ask user which search type they'd like to use\n",
    "SearchType1 = input(\"Which search type would you like to use? \")\n",
    "# ask user which search item they'd like to search for\n",
    "SearchItem2 = input(\"Which search item would you like to search for? \")\n",
    "\n",
    "# ask user which search type they'd like to use\n",
    "SearchType2 = input(\"Which search type would you like to use? \")\n",
    "\n",
    "# ask user whether they'd like to search for a partial match or not\n",
    "partial_or_not = input(\"Would you like to search for a partial match or not? \")\n",
    "\n",
    "# confirm with the user what they've entered by printing the input features to the screen\n",
    "print(\"You have entered: \\n\"\n",
    "      \"Search database:\", str(database))\n",
    "\n",
    "use subprocess to run the following esearch\n",
    "subprocess.call(\"esearch -db {database} -query \"{SearchItem1}[{SearchType1}] AND {SearchItem2}[{SearchType2}] {partial_or_not}\", shell=True) # should ask user whether they'd like it partial or not, default should be NOT PARTIAL\n",
    "for example: esearch -db nucleotide -query \"Cosmoscarta[organism]\"\n",
    "use of efetch for the sequence data:\n",
    "esearch -db protein -query \"Homo sapiens\" | efetch -format fasta >Homosapiens.fasta"
   ],
   "metadata": {
    "collapsed": false
   },
   "id": "bc216994a661be0c"
  },
  {
   "cell_type": "code",
   "execution_count": 5,
   "outputs": [
    {
     "name": "stdout",
     "output_type": "stream",
     "text": [
      "The extracted sequences are saved in a new folder called AvesORGN_AND_glucose6phosphatasePROT_sequences .\n",
      "{}\n"
     ]
    }
   ],
   "source": [
    "    #!/usr/bin/python3\n",
    "import os\n",
    "import subprocess\n",
    "import sys\n",
    "import re\n",
    "import numpy as np\n",
    "import pandas as pd\n",
    "\n",
    "sequences =  subprocess.getoutput(\"cat \"+\"AvesORGN_AND_glucose6phosphatasePROT\"+\".fasta\").split('>')[1:]\n",
    "new_file_name = \"AvesORGN_AND_glucose6phosphatasePROT\"\n",
    "# define a function to extract the sequences from the fasta file to a folder containing all sequences as fasta files\n",
    "def extract_seq(file_name):\n",
    "    '''This function takes the fasta sequence containing multiple sequences as an input and extracts the sequences to separate files.\n",
    "    The separate files are saved in a new folder and \n",
    "    '''\n",
    "\n",
    "    # create a new directory to save the extracted sequences\n",
    "    new_dir = str(str(file_name) + \"_sequences\")\n",
    "    os.mkdir(f\"{new_dir}\")\n",
    "    # split the sequences within the fasta file into individual sequences\n",
    "    # get the content of the fasta file into a variable and splitting the content into individual sequences\n",
    "    sequences = subprocess.getoutput(\"cat \"+str(file_name)+\".fasta\").split('>')[1:]\n",
    "    # define an empty dictionary to collect seq_data\n",
    "    seq_data_dict = {}\n",
    "    # extract the sequence data of each sequence in the fasta file\n",
    "    for sequence in sequences:\n",
    "        # split the sequence into individual\n",
    "        lines = sequence.split('\\n')\n",
    "        # save the accession ID by taking the first line in lines and splitting it by space\n",
    "        header = lines[0].split(' ')\n",
    "        # the first item in header is the accession ID\n",
    "        accession_id = header[0]\n",
    "        # join all the lines together to get the whole sequence\n",
    "        seq_data = ''.join(lines[1:])\n",
    "        # use a dictionary to save each item in result_name_dict as a value and its header as a key\n",
    "        seq_data_dict[accession_id] = seq_data\n",
    "        # save the sequence data to a new file\n",
    "        with open(f\"./{new_dir}/{accession_id}\" + \".fasta\", \"w\") as f:\n",
    "            f.write(\">\"+str(header)+\"\\n\")\n",
    "            f.write(seq_data)\n",
    "            f.close()\n",
    "    # inform the user where the files are saved\n",
    "    print('The extracted sequences are saved in a new folder called', f'{new_dir}', '.')\n",
    "    \n",
    "    # return the dictionary of sequence data and the header\n",
    "    return seq_data_dict\n",
    "\n",
    "seq_data_dict = extract_seq(new_file_name)\n",
    "print(seq_data_dict)"
   ],
   "metadata": {
    "collapsed": false,
    "ExecuteTime": {
     "end_time": "2023-11-18T14:42:32.498782500Z",
     "start_time": "2023-11-18T14:42:32.465101700Z"
    }
   },
   "id": "471aa294a4018b23"
  },
  {
   "cell_type": "code",
   "execution_count": 9,
   "outputs": [
    {
     "data": {
      "text/plain": "                 Unnamed: 0  ATP_GTP_A  ABC_TRANSPORTER_1  RGD  \\\n0        AAA91199.1.fasta\\n          1                1.0  0.0   \n1        AAB36585.1.fasta\\n          1                1.0  1.0   \n2        AAB36586.1.fasta\\n          1                1.0  1.0   \n3        AAB36587.1.fasta\\n          1                1.0  1.0   \n4        AAB36588.1.fasta\\n          1                1.0  1.0   \n5        AAF76889.1.fasta\\n          1                1.0  0.0   \n6        AAP44087.1.fasta\\n          1                0.0  0.0   \n7        BAB13728.2.fasta\\n          1                1.0  0.0   \n8        BAB71769.1.fasta\\n          1                1.0  1.0   \n9        CAA05793.1.fasta\\n          1                1.0  0.0   \n10       CAA47025.1.fasta\\n          1                1.0  0.0   \n11       CAC87131.1.fasta\\n          1                1.0  1.0   \n12       DAA16662.1.fasta\\n          1                0.0  0.0   \n13   NP_001244315.1.fasta\\n          1                0.0  0.0   \n14   NP_001266611.1.fasta\\n          1                1.0  1.0   \n15   NP_001335914.1.fasta\\n          1                0.0  0.0   \n16   NP_001335915.1.fasta\\n          1                0.0  0.0   \n17   NP_001335916.1.fasta\\n          1                0.0  0.0   \n18   NP_001335918.1.fasta\\n          1                0.0  0.0   \n19      NP_004818.2.fasta\\n          1                0.0  0.0   \n\n    LEUCINE_ZIPPER  MICROBODIES_CTER  AMIDATION  \n0              0.0               0.0        0.0  \n1              2.0               0.0        0.0  \n2              2.0               0.0        0.0  \n3              2.0               0.0        0.0  \n4              2.0               0.0        0.0  \n5              0.0               1.0        0.0  \n6              0.0               0.0        0.0  \n7              1.0               0.0        1.0  \n8              2.0               0.0        0.0  \n9              0.0               0.0        2.0  \n10             0.0               0.0        0.0  \n11             1.0               0.0        0.0  \n12             3.0               0.0        0.0  \n13             0.0               0.0        0.0  \n14             2.0               0.0        0.0  \n15             0.0               0.0        0.0  \n16             0.0               0.0        0.0  \n17             0.0               0.0        0.0  \n18             0.0               0.0        0.0  \n19             0.0               0.0        0.0  ",
      "text/html": "<div>\n<style scoped>\n    .dataframe tbody tr th:only-of-type {\n        vertical-align: middle;\n    }\n\n    .dataframe tbody tr th {\n        vertical-align: top;\n    }\n\n    .dataframe thead th {\n        text-align: right;\n    }\n</style>\n<table border=\"1\" class=\"dataframe\">\n  <thead>\n    <tr style=\"text-align: right;\">\n      <th></th>\n      <th>Unnamed: 0</th>\n      <th>ATP_GTP_A</th>\n      <th>ABC_TRANSPORTER_1</th>\n      <th>RGD</th>\n      <th>LEUCINE_ZIPPER</th>\n      <th>MICROBODIES_CTER</th>\n      <th>AMIDATION</th>\n    </tr>\n  </thead>\n  <tbody>\n    <tr>\n      <th>0</th>\n      <td>AAA91199.1.fasta\\n</td>\n      <td>1</td>\n      <td>1.0</td>\n      <td>0.0</td>\n      <td>0.0</td>\n      <td>0.0</td>\n      <td>0.0</td>\n    </tr>\n    <tr>\n      <th>1</th>\n      <td>AAB36585.1.fasta\\n</td>\n      <td>1</td>\n      <td>1.0</td>\n      <td>1.0</td>\n      <td>2.0</td>\n      <td>0.0</td>\n      <td>0.0</td>\n    </tr>\n    <tr>\n      <th>2</th>\n      <td>AAB36586.1.fasta\\n</td>\n      <td>1</td>\n      <td>1.0</td>\n      <td>1.0</td>\n      <td>2.0</td>\n      <td>0.0</td>\n      <td>0.0</td>\n    </tr>\n    <tr>\n      <th>3</th>\n      <td>AAB36587.1.fasta\\n</td>\n      <td>1</td>\n      <td>1.0</td>\n      <td>1.0</td>\n      <td>2.0</td>\n      <td>0.0</td>\n      <td>0.0</td>\n    </tr>\n    <tr>\n      <th>4</th>\n      <td>AAB36588.1.fasta\\n</td>\n      <td>1</td>\n      <td>1.0</td>\n      <td>1.0</td>\n      <td>2.0</td>\n      <td>0.0</td>\n      <td>0.0</td>\n    </tr>\n    <tr>\n      <th>5</th>\n      <td>AAF76889.1.fasta\\n</td>\n      <td>1</td>\n      <td>1.0</td>\n      <td>0.0</td>\n      <td>0.0</td>\n      <td>1.0</td>\n      <td>0.0</td>\n    </tr>\n    <tr>\n      <th>6</th>\n      <td>AAP44087.1.fasta\\n</td>\n      <td>1</td>\n      <td>0.0</td>\n      <td>0.0</td>\n      <td>0.0</td>\n      <td>0.0</td>\n      <td>0.0</td>\n    </tr>\n    <tr>\n      <th>7</th>\n      <td>BAB13728.2.fasta\\n</td>\n      <td>1</td>\n      <td>1.0</td>\n      <td>0.0</td>\n      <td>1.0</td>\n      <td>0.0</td>\n      <td>1.0</td>\n    </tr>\n    <tr>\n      <th>8</th>\n      <td>BAB71769.1.fasta\\n</td>\n      <td>1</td>\n      <td>1.0</td>\n      <td>1.0</td>\n      <td>2.0</td>\n      <td>0.0</td>\n      <td>0.0</td>\n    </tr>\n    <tr>\n      <th>9</th>\n      <td>CAA05793.1.fasta\\n</td>\n      <td>1</td>\n      <td>1.0</td>\n      <td>0.0</td>\n      <td>0.0</td>\n      <td>0.0</td>\n      <td>2.0</td>\n    </tr>\n    <tr>\n      <th>10</th>\n      <td>CAA47025.1.fasta\\n</td>\n      <td>1</td>\n      <td>1.0</td>\n      <td>0.0</td>\n      <td>0.0</td>\n      <td>0.0</td>\n      <td>0.0</td>\n    </tr>\n    <tr>\n      <th>11</th>\n      <td>CAC87131.1.fasta\\n</td>\n      <td>1</td>\n      <td>1.0</td>\n      <td>1.0</td>\n      <td>1.0</td>\n      <td>0.0</td>\n      <td>0.0</td>\n    </tr>\n    <tr>\n      <th>12</th>\n      <td>DAA16662.1.fasta\\n</td>\n      <td>1</td>\n      <td>0.0</td>\n      <td>0.0</td>\n      <td>3.0</td>\n      <td>0.0</td>\n      <td>0.0</td>\n    </tr>\n    <tr>\n      <th>13</th>\n      <td>NP_001244315.1.fasta\\n</td>\n      <td>1</td>\n      <td>0.0</td>\n      <td>0.0</td>\n      <td>0.0</td>\n      <td>0.0</td>\n      <td>0.0</td>\n    </tr>\n    <tr>\n      <th>14</th>\n      <td>NP_001266611.1.fasta\\n</td>\n      <td>1</td>\n      <td>1.0</td>\n      <td>1.0</td>\n      <td>2.0</td>\n      <td>0.0</td>\n      <td>0.0</td>\n    </tr>\n    <tr>\n      <th>15</th>\n      <td>NP_001335914.1.fasta\\n</td>\n      <td>1</td>\n      <td>0.0</td>\n      <td>0.0</td>\n      <td>0.0</td>\n      <td>0.0</td>\n      <td>0.0</td>\n    </tr>\n    <tr>\n      <th>16</th>\n      <td>NP_001335915.1.fasta\\n</td>\n      <td>1</td>\n      <td>0.0</td>\n      <td>0.0</td>\n      <td>0.0</td>\n      <td>0.0</td>\n      <td>0.0</td>\n    </tr>\n    <tr>\n      <th>17</th>\n      <td>NP_001335916.1.fasta\\n</td>\n      <td>1</td>\n      <td>0.0</td>\n      <td>0.0</td>\n      <td>0.0</td>\n      <td>0.0</td>\n      <td>0.0</td>\n    </tr>\n    <tr>\n      <th>18</th>\n      <td>NP_001335918.1.fasta\\n</td>\n      <td>1</td>\n      <td>0.0</td>\n      <td>0.0</td>\n      <td>0.0</td>\n      <td>0.0</td>\n      <td>0.0</td>\n    </tr>\n    <tr>\n      <th>19</th>\n      <td>NP_004818.2.fasta\\n</td>\n      <td>1</td>\n      <td>0.0</td>\n      <td>0.0</td>\n      <td>0.0</td>\n      <td>0.0</td>\n      <td>0.0</td>\n    </tr>\n  </tbody>\n</table>\n</div>"
     },
     "execution_count": 9,
     "metadata": {},
     "output_type": "execute_result"
    }
   ],
   "source": [
    "import pandas as pd\n",
    "df = pd.read_csv(\"motif_counts.csv\")\n",
    "df"
   ],
   "metadata": {
    "collapsed": false,
    "ExecuteTime": {
     "end_time": "2023-11-18T21:42:30.833862300Z",
     "start_time": "2023-11-18T21:42:30.802133800Z"
    }
   },
   "id": "bb3a27472822b922"
  },
  {
   "cell_type": "code",
   "execution_count": 1,
   "outputs": [
    {
     "name": "stdout",
     "output_type": "stream",
     "text": [
      "(12, 15)\n"
     ]
    }
   ],
   "source": [
    "num_subplots = 6\n",
    "# Calculate the number of rows and columns based on the number of subplots\n",
    "num_rows = (num_subplots // 2) + (num_subplots % 2)\n",
    "num_cols = 2\n",
    "\n",
    "# Adjust the figsize based on the number of subplots\n",
    "figsize = (12, num_rows * 5)  # You can adjust the multiplier as needed\n",
    "print(figsize)"
   ],
   "metadata": {
    "collapsed": false,
    "ExecuteTime": {
     "end_time": "2023-11-19T17:59:37.918168400Z",
     "start_time": "2023-11-19T17:59:37.898168500Z"
    }
   },
   "id": "90c815814ea6c0cd"
  }
 ],
 "metadata": {
  "kernelspec": {
   "display_name": "Python 3",
   "language": "python",
   "name": "python3"
  },
  "language_info": {
   "codemirror_mode": {
    "name": "ipython",
    "version": 2
   },
   "file_extension": ".py",
   "mimetype": "text/x-python",
   "name": "python",
   "nbconvert_exporter": "python",
   "pygments_lexer": "ipython2",
   "version": "2.7.6"
  }
 },
 "nbformat": 4,
 "nbformat_minor": 5
}
