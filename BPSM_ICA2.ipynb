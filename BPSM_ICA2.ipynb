{
 "cells": [
  {
   "cell_type": "markdown",
   "source": [],
   "metadata": {
    "collapsed": false
   },
   "id": "1f92581c0fe0f874"
  },
  {
   "cell_type": "markdown",
   "source": [
    "# STEP 1: User specifies the protein family and the taxonomic group. Using the relevant EMBOSS functionalities to 1) obtain the relevant protein sequence data\n",
    "\n"
   ],
   "metadata": {
    "collapsed": false
   },
   "id": "7e02b22711ff6e64"
  },
  {
   "cell_type": "code",
   "execution_count": 2,
   "outputs": [],
   "source": [
    "#!/usr/bin/python3\n",
    "import os\n",
    "import subprocess\n",
    "import sys\n",
    "import re\n",
    "import numpy as np\n",
    "import pandas as pd"
   ],
   "metadata": {
    "collapsed": false,
    "ExecuteTime": {
     "end_time": "2023-11-12T10:32:08.487655600Z",
     "start_time": "2023-11-12T10:32:08.026663800Z"
    }
   },
   "id": "initial_id"
  },
  {
   "cell_type": "code",
   "execution_count": 3,
   "outputs": [
    {
     "name": "stdout",
     "output_type": "stream",
     "text": [
      "Welcome to the E-Search programme! \n",
      "This programme is used for searching protein sequences within the protein database\n",
      "It will start by asking the user to specify their search terms, \n"
     ]
    }
   ],
   "source": [
    "# the following script takes an input from the user, asking them which database they'd like to search from\n",
    "# and then asks them which search item they'd like to search for and what search type this search item is.\n",
    "# then it asks whether they'd like to search for a partial match or not.\n",
    "\n",
    "# TODO: Intro to the programme\n",
    "# Welcome the user to the programme, introduce what the programme does and what input it will take from the user\n",
    "print(\"Welcome to the E-Search programme! \\n\"\n",
    "      \"This programme is used for searching protein sequences within the protein database\\n\"\n",
    "      \"It will start by asking the user to specify their search terms, \\n\")"
   ],
   "metadata": {
    "collapsed": false,
    "ExecuteTime": {
     "end_time": "2023-11-12T10:32:09.339866200Z",
     "start_time": "2023-11-12T10:32:09.324246600Z"
    }
   },
   "id": "ed21408e72fcfb8b"
  },
  {
   "cell_type": "markdown",
   "source": [
    "# Get user_input and do quality check for the search term"
   ],
   "metadata": {
    "collapsed": false
   },
   "id": "92453349c63d8852"
  },
  {
   "cell_type": "code",
   "execution_count": 1,
   "outputs": [
    {
     "ename": "NameError",
     "evalue": "name 're' is not defined",
     "output_type": "error",
     "traceback": [
      "\u001B[1;31m---------------------------------------------------------------------------\u001B[0m",
      "\u001B[1;31mNameError\u001B[0m                                 Traceback (most recent call last)",
      "Cell \u001B[1;32mIn[1], line 53\u001B[0m\n\u001B[0;32m     51\u001B[0m \u001B[38;5;66;03m# save the input as a variable, but also allow the user to interrupt the programme\u001B[39;00m\n\u001B[0;32m     52\u001B[0m \u001B[38;5;28;01mtry\u001B[39;00m:\n\u001B[1;32m---> 53\u001B[0m     user_input \u001B[38;5;241m=\u001B[39m \u001B[43mget_input\u001B[49m\u001B[43m(\u001B[49m\u001B[43m)\u001B[49m\n\u001B[0;32m     54\u001B[0m \u001B[38;5;28;01mexcept\u001B[39;00m \u001B[38;5;167;01mKeyboardInterrupt\u001B[39;00m:\n\u001B[0;32m     55\u001B[0m     \u001B[38;5;28mprint\u001B[39m(\u001B[38;5;124m\"\u001B[39m\u001B[38;5;130;01m\\n\u001B[39;00m\u001B[38;5;124mProgramme interrupted by the user.\u001B[39m\u001B[38;5;124m\"\u001B[39m)\n",
      "Cell \u001B[1;32mIn[1], line 41\u001B[0m, in \u001B[0;36mget_input\u001B[1;34m()\u001B[0m\n\u001B[0;32m     39\u001B[0m \u001B[38;5;66;03m# while loop to make sure user_input passes the quality check, this will run until it passes!\u001B[39;00m\n\u001B[0;32m     40\u001B[0m \u001B[38;5;28;01mwhile\u001B[39;00m \u001B[38;5;28;01mTrue\u001B[39;00m:\n\u001B[1;32m---> 41\u001B[0m     \u001B[38;5;28;01mif\u001B[39;00m \u001B[43mquality_check_user_input\u001B[49m\u001B[43m(\u001B[49m\u001B[43muser_input\u001B[49m\u001B[43m)\u001B[49m:\n\u001B[0;32m     42\u001B[0m         \u001B[38;5;28mprint\u001B[39m(\u001B[38;5;124m\"\u001B[39m\u001B[38;5;124mThe following search term will be used in NCBI: \u001B[39m\u001B[38;5;124m\"\u001B[39m, user_input, \u001B[38;5;124m'\u001B[39m\u001B[38;5;130;01m\\n\u001B[39;00m\u001B[38;5;124m'\u001B[39m,\n\u001B[0;32m     43\u001B[0m               \u001B[38;5;124m'\u001B[39m\u001B[38;5;124m*Note: This may not be the exact name of the taxonomic group as NCBI allows room for typo in the search term.*\u001B[39m\u001B[38;5;124m'\u001B[39m)\n\u001B[0;32m     44\u001B[0m         \u001B[38;5;28;01mreturn\u001B[39;00m user_input\n",
      "Cell \u001B[1;32mIn[1], line 15\u001B[0m, in \u001B[0;36mquality_check_user_input\u001B[1;34m(input)\u001B[0m\n\u001B[0;32m     12\u001B[0m     \u001B[38;5;28;01mreturn\u001B[39;00m \u001B[38;5;28;01mFalse\u001B[39;00m\n\u001B[0;32m     14\u001B[0m \u001B[38;5;66;03m# if the user_input is empty, then the user has not specified a taxonomic group and they need to specify the input again\u001B[39;00m\n\u001B[1;32m---> 15\u001B[0m \u001B[38;5;28;01mif\u001B[39;00m \u001B[43mre\u001B[49m\u001B[38;5;241m.\u001B[39msearch(\u001B[38;5;124m\"\u001B[39m\u001B[38;5;124m^$\u001B[39m\u001B[38;5;124m\"\u001B[39m,\u001B[38;5;28minput\u001B[39m):  \u001B[38;5;66;03m# using re, search for anything that contains nothing betweent the start and end of the string\u001B[39;00m\n\u001B[0;32m     16\u001B[0m     \u001B[38;5;28;01mreturn\u001B[39;00m \u001B[38;5;28;01mFalse\u001B[39;00m\n\u001B[0;32m     17\u001B[0m \u001B[38;5;28;01mtry\u001B[39;00m:\n\u001B[0;32m     18\u001B[0m     \u001B[38;5;66;03m# run esearch on the commandline and save it to esearch_user_input\u001B[39;00m\n",
      "\u001B[1;31mNameError\u001B[0m: name 're' is not defined"
     ]
    }
   ],
   "source": [
    "### PROCESS STEP 0: INPUT AND INPUT PRE-PROCESSING ###\n",
    "## This step takes the user's input and store it as a variable so that it can be fed into the esearch commandline\n",
    "## via subprocess in the next step\n",
    "\n",
    "# define a function to check the quality of the user's input\n",
    "def quality_check_user_input(input):\n",
    "    '''This function checks the quality of the user's input. It checks whether the user has specified a valid taxonomic group or not.\n",
    "    If the user has specified a valid taxonomic group, then the function returns True, otherwise it returns False.'''\n",
    "\n",
    "    # brackets produces a syntax error in bash when running esearch\n",
    "    if \"(\" in input or \")\" in input:\n",
    "        return False\n",
    "\n",
    "    # if the user_input is empty, then the user has not specified a taxonomic group and they need to specify the input again\n",
    "    if re.search(\"^$\",input):  # using re, search for anything that contains nothing betweent the start and end of the string\n",
    "        return False\n",
    "    try:\n",
    "        # run esearch on the commandline and save it to esearch_user_input\n",
    "        esearch_user_input = subprocess.getoutput(\"esearch -db taxonomy -spell -query \" + input + \"| efetch\")\n",
    "    except subprocess.CalledProcessError as e:\n",
    "        print(\n",
    "            f\"Error executing subprocess: {e}, please run the programme again and provide an appropriate taxonomic group name.\")\n",
    "        # handle the error or exit the programme\n",
    "        sys.exit(1)\n",
    "    # if user_input returns an empty line, warning or error on NCBI, return False\n",
    "    if re.search(\"^$\", esearch_user_input):\n",
    "        return False\n",
    "\n",
    "    if \"FAILURE\" in esearch_user_input or \"WARNING\" in esearch_user_input or \"ERROR\" in esearch_user_input:\n",
    "    # print(\"HERE\") # debug line\n",
    "        return False\n",
    "    else:\n",
    "        return True\n",
    "\n",
    "# define a function to get the user's input\n",
    "def get_input():\n",
    "    '''This function collects the user input. Input quality check is also performed.'''\n",
    "    user_input = input(\"Which taxonomic group would you like to search for? Enter its name to proceed. \")\n",
    "    # while loop to make sure user_input passes the quality check, this will run until it passes!\n",
    "    while True:\n",
    "        if quality_check_user_input(user_input):\n",
    "            print(\"The following search term will be used in NCBI: \", user_input, '\\n',\n",
    "                  '*Note: This may not be the exact name of the taxonomic group as NCBI allows room for typo in the search term.*')\n",
    "            return user_input\n",
    "        else:\n",
    "            print(\"The taxonomic group you have specified is not valid. Please try again.\")\n",
    "            # ask user to specify the taxonomic group they'd like to search for AGAIN\n",
    "            user_input = input(\"Which taxonomic group would you like to search for? Enter its name to proceed. \")\n",
    "            continue\n",
    "\n",
    "# save the input as a variable, but also allow the user to interrupt the programme\n",
    "try:\n",
    "    user_input = get_input()\n",
    "except KeyboardInterrupt:\n",
    "    print(\"\\nProgramme interrupted by the user.\")\n",
    "    sys.exit(0)"
   ],
   "metadata": {
    "collapsed": false,
    "ExecuteTime": {
     "end_time": "2023-11-12T10:33:44.320063800Z",
     "start_time": "2023-11-12T10:33:42.691671700Z"
    }
   },
   "id": "65cd5760261dc6c9"
  },
  {
   "cell_type": "code",
   "execution_count": 6,
   "outputs": [],
   "source": [
    "# define a function to get the scientific names of the taxonomic groups\n",
    "def get_scientific_names():\n",
    "    '''The function collects the scientific names from user_input. Quality check is also performed'''\n",
    "    # search for this taxonomic group on esearch and save the output in user_result\n",
    "    user_result = subprocess.getoutput(\"esearch -db taxonomy -spell -query \" + user_input + \"| efetch\")\n",
    "    # search for this taxonomic group on esearch and save the names of the possible taxonimic groups to a list\n",
    "    print(\"\")\n",
    "    scientific_names = subprocess.getoutput(\"esearch -db taxonomy -spell -query \" + user_input + \"| efetch -format docsum | xtract -pattern DocumentSummary -element ScientificName\")  # -spell performs spell check, 'efetch -format docsum' gets the DocSum of the query, and 'xtract -pattern DocumentSummary -element ScientificName' extracts the scientific name \n",
    "    # saving every item within scientific_names into a list\n",
    "    scientific_name_list = scientific_names.split(\"\\n\")  # splitting the list into a list of scientific names\n",
    "    return scientific_name_list, scientific_names, user_result\n",
    "\n",
    "#TODO: define a function to perform a search within the NCBI protein database\n",
    "def protein_esearch(search_term):\n",
    "    '''This function performs an esearch within the NCBI protein database given a valid input and outputs the fasta sequence of the protein specified.'''\n",
    "    user_result = subprocess.getoutput(\"esearch -db protein -spell -query \" + search_term + \"| efetch\")\n",
    "    ...\n",
    "    \n",
    "# define a function to get confirmation from the user as to whether they'd like to proceed\n",
    "def get_confirmation():\n",
    "    '''This function gets confirmation from the user as to whether they'd like to proceed'''\n",
    "    while True:\n",
    "        # take an input from the user and turn it lowercase\n",
    "        confirmation = input(\"Would you like to proceed? (y/n)\").lower()\n",
    "        if confirmation == 'y':\n",
    "            return True\n",
    "        elif confirmation == 'n':\n",
    "            return False\n",
    "        else:\n",
    "            print(\"Invalid input. Please enter 'y' or 'n'\")"
   ],
   "metadata": {
    "collapsed": false,
    "ExecuteTime": {
     "end_time": "2023-11-12T10:32:55.285891200Z",
     "start_time": "2023-11-12T10:32:55.269714700Z"
    }
   },
   "id": "b1d312dd25a7e8da"
  },
  {
   "cell_type": "code",
   "execution_count": 1,
   "outputs": [
    {
     "ename": "IndentationError",
     "evalue": "expected an indented block (2807924904.py, line 39)",
     "output_type": "error",
     "traceback": [
      "\u001B[1;36m  Cell \u001B[1;32mIn[1], line 39\u001B[1;36m\u001B[0m\n\u001B[1;33m    print(input(\"Which o\",scientific_name_list))\u001B[0m\n\u001B[1;37m    ^\u001B[0m\n\u001B[1;31mIndentationError\u001B[0m\u001B[1;31m:\u001B[0m expected an indented block\n"
     ]
    }
   ],
   "source": [
    "# execute get_scientific_names to save the outputs as global variables\n",
    "scientific_name_list, scientific_names, user_result = get_scientific_names()\n",
    "\n",
    "#TODO: quality check scientific_name_list (low priority)\n",
    "# if the scientific_name_list is empty, then the user has not specified a valid taxonomic group and they need to specify the input again\n",
    "# (this should not happen, but a sanity check is always good!)\n",
    "if len(scientific_name_list) == 0:\n",
    "    # use the get_input function\n",
    "    user_input = get_input()\n",
    "    # use the get_scientific_names function\n",
    "    scientific_name_list, scientific_names, user_result = get_scientific_names()\n",
    "    print(\"here\")\n",
    "    # once the condition for scientific_name_list != 0 is satisfied, continue to the next if statement\n",
    "    exit()\n",
    "    \n",
    "# if there is only one scientific_name in scientific_name_list, then the user has specified 1 valid taxonomic group\n",
    "if len(scientific_name_list) == 1:\n",
    "    print(\"You have specified the taxonomic group: \", scientific_names)\n",
    "    user_confirmation = get_confirmation()\n",
    "    print(user_confirmation) # debug line\n",
    "    # if the user would like to proceed, then we can further refine the search\n",
    "    if user_confirmation == True:\n",
    "        scientific_name = scientific_name_list[0]\n",
    "\n",
    "    # if the user would like to change their taxonomic group name, then they have to specify the taxonomic group again\n",
    "    if input_confirmation == False:\n",
    "        scientific_name = input(\"Which taxonomic group would you like to search for? \")\n",
    "        scientific_names = subprocess.getoutput(\"esearch -db taxonomy -spell -query \"+user_input+ \"| efetch -format docsum | xtract -pattern DocumentSummary -element ScientificName\")  # -spell performs spell check\n",
    "        # splitting scientific_names into a list of scientific name\n",
    "        scientific_name_list = scientific_names.split(\"\\n\")  # splitting the list into a list of scientific names\n",
    "        #TODO: This will then take them to the beginning of this if statement\n",
    "\n",
    "s\n",
    "if len(scientific_name_list) > 1:\n",
    "    \n",
    "\n",
    "\n",
    "# output to the screen asking the user which taxonomic group they'd like to search for\n",
    "print(input(\"Which o\",scientific_name_list))"
   ],
   "metadata": {
    "collapsed": false,
    "ExecuteTime": {
     "end_time": "2023-11-12T10:31:57.244467400Z",
     "start_time": "2023-11-12T10:31:57.234264400Z"
    }
   },
   "id": "ef59876d5bf37264"
  },
  {
   "cell_type": "code",
   "execution_count": null,
   "outputs": [],
   "source": [
    "#TODO: THIS SHOULD BE RAN IN BIOINF SERVER\n",
    "# specify the database to search from, the user cannot specify the database they'd like to search from, or this will become too complicated...\n",
    "database = \"protein\"\n",
    "print(\"The search database is set to \", database)\n",
    "\n",
    "# ask user which search type they'd like to use\n",
    "SearchType1 = input(\"Which search type would you like to use? \")\n",
    "# ask user which search item they'd like to search for\n",
    "SearchItem2 = input(\"Which search item would you like to search for? \")\n",
    "\n",
    "# ask user which search type they'd like to use\n",
    "SearchType2 = input(\"Which search type would you like to use? \")\n",
    "\n",
    "# ask user whether they'd like to search for a partial match or not\n",
    "partial_or_not = input(\"Would you like to search for a partial match or not? \")\n",
    "\n",
    "# confirm with the user what they've entered by printing the input features to the screen\n",
    "print(\"You have entered: \\n\"\n",
    "      \"Search database:\", str(database))\n",
    "\n",
    "use subprocess to run the following esearch\n",
    "subprocess.call(\"esearch -db {database} -query \"{SearchItem1}[{SearchType1}] AND {SearchItem2}[{SearchType2}] {partial_or_not}\", shell=True) # should ask user whether they'd like it partial or not, default should be NOT PARTIAL\n",
    "for example: esearch -db nucleotide -query \"Cosmoscarta[organism]\"\n",
    "use of efetch for the sequence data:\n",
    "esearch -db protein -query \"Homo sapiens\" | efetch -format fasta >Homosapiens.fasta"
   ],
   "metadata": {
    "collapsed": false
   },
   "id": "bc216994a661be0c"
  }
 ],
 "metadata": {
  "kernelspec": {
   "display_name": "Python 3",
   "language": "python",
   "name": "python3"
  },
  "language_info": {
   "codemirror_mode": {
    "name": "ipython",
    "version": 2
   },
   "file_extension": ".py",
   "mimetype": "text/x-python",
   "name": "python",
   "nbconvert_exporter": "python",
   "pygments_lexer": "ipython2",
   "version": "2.7.6"
  }
 },
 "nbformat": 4,
 "nbformat_minor": 5
}
